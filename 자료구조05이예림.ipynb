{
 "cells": [
  {
   "cell_type": "markdown",
   "id": "8d21f4c6-0b0a-4152-b832-418aa3c04452",
   "metadata": {},
   "source": [
    "# 3. 생일이 느린 순서로 10명의 친구를 출력하는 코드"
   ]
  },
  {
   "cell_type": "code",
   "execution_count": 1,
   "id": "01d09ca4-9367-4a73-aeff-8943964e9205",
   "metadata": {},
   "outputs": [
    {
     "name": "stdout",
     "output_type": "stream",
     "text": [
      "🎂 생일이 느린 순서 Top 10\n",
      "신수민: 20051230\n",
      "이서영: 20051225\n",
      "강민주: 20051214\n",
      "김민경: 20051202\n",
      "이서영: 20051112\n",
      "배시은: 20051102\n",
      "김여원: 20051031\n",
      "이서진: 20051028\n",
      "서홍빈: 20051024\n",
      "김예빈: 20051019\n"
     ]
    }
   ],
   "source": [
    "import heapq\n",
    "import pandas as pd\n",
    "from datetime import datetime\n",
    "\n",
    "# CSV 파일 불러오기 (같은 폴더에 있어야 함!)\n",
    "df = pd.read_csv(\"birthdays.csv\")\n",
    "\n",
    "birthdays = []\n",
    "\n",
    "for _, row in df.iterrows():\n",
    "    name = row['이름']\n",
    "    bday_raw = row['생년월일8자리(예.20040101)']\n",
    "    \n",
    "    if pd.notnull(bday_raw):\n",
    "        raw_birthday = str(bday_raw).split('.')[0]\n",
    "        try:\n",
    "            birthday_date = datetime.strptime(raw_birthday, '%Y%m%d')\n",
    "            heapq.heappush(birthdays, (-birthday_date.timestamp(), name, raw_birthday))\n",
    "        except ValueError:\n",
    "            continue  # 날짜가 이상하면 건너뛰기\n",
    "\n",
    "# 결과 출력\n",
    "print(\"🎂 생일이 느린 순서 Top 10\")\n",
    "for _ in range(min(10, len(birthdays))):\n",
    "    _, name, bday_str = heapq.heappop(birthdays)\n",
    "    print(f\"{name}: {bday_str}\")"
   ]
  },
  {
   "cell_type": "markdown",
   "id": "75813ba7-f598-4583-badd-f8b6d89e4d6d",
   "metadata": {},
   "source": [
    "# 4. 같은 조의 친구들만 이름과 생년월일을 출력하는 코드"
   ]
  },
  {
   "cell_type": "code",
   "execution_count": 3,
   "id": "258815c9-170d-4163-b8cd-63cf2704d9e6",
   "metadata": {},
   "outputs": [
    {
     "name": "stdout",
     "output_type": "stream",
     "text": [
      "🌸 내 조원들의 생일 🌸\n",
      "김나림: 20030805\n",
      "김효리: 20011212\n",
      "박찬미: 20000507\n",
      "박혜린: 20030603\n",
      "안소민: 20040420\n",
      "이가연: 20040927\n",
      "이서현: 20040609\n",
      "이수빈: 20040910\n",
      "이예림: 20021215\n",
      "이원진: 20050602\n",
      "이진: 20020415\n",
      "임서영: 20050207\n",
      "전민서: 20040318\n"
     ]
    }
   ],
   "source": [
    "from circularDoublyLinkedList import CircularDoublyLinkedList\n",
    "import pandas as pd\n",
    "\n",
    "# 조원 명단\n",
    "my_team = [\n",
    "    \"이원진\", \"박찬미\", \"박혜린\", \"전민서\", \"임서영\", \"이서현\", \"안소민\", \"이채민\",\n",
    "    \"이예림\", \"이수빈\", \"김효리\", \"이지영\", \"이진\", \"김나림\", \"이가연\"\n",
    "]\n",
    "\n",
    "# 생일 데이터 읽기\n",
    "df = pd.read_csv(\"birthdays.csv\")\n",
    "\n",
    "# 리스트 생성\n",
    "cdll = CircularDoublyLinkedList()\n",
    "\n",
    "for _, row in df.iterrows():\n",
    "    name = row['이름']\n",
    "    bday_raw = row['생년월일8자리(예.20040101)']\n",
    "    \n",
    "    if pd.notnull(bday_raw):\n",
    "        bday_str = str(bday_raw).split('.')[0]\n",
    "        cdll.insert((name, bday_str))\n",
    "\n",
    "# 같은 조 친구들만 출력\n",
    "print(\"🌸 내 조원들의 생일 🌸\")\n",
    "for name, bday in cdll:\n",
    "    if name in my_team:\n",
    "        print(f\"{name}: {bday}\")"
   ]
  },
  {
   "cell_type": "markdown",
   "id": "d41a40e5-26e3-40e2-8e10-f5e57b43c14a",
   "metadata": {},
   "source": [
    "# 5. 교재 8장 우선 순위 큐 연습문제"
   ]
  },
  {
   "cell_type": "markdown",
   "id": "25398808-526d-46ed-b8fd-83f5bcc6db10",
   "metadata": {},
   "source": [
    "### 1."
   ]
  },
  {
   "cell_type": "markdown",
   "id": "f2882b45-99d0-4970-92a8-2cf66736c093",
   "metadata": {},
   "source": [
    "아니오, 최대 힙에서는 부모 노드가 자식 노드보다 항상 크거나 같아야 하므로,\n",
    "깊은 곳(즉, 자식 노드)의 값이 더 작을 수는 있어도, 더 클 수는 없습니다.\n",
    "따라서 항상 더 얕은 곳(루트 쪽)의 값이 더 크거나 같다는 성질을 가집니다."
   ]
  },
  {
   "cell_type": "markdown",
   "id": "b1bc7f31-8ed1-4a00-a6c9-1cc6b6ae48d0",
   "metadata": {},
   "source": [
    "### 2."
   ]
  },
  {
   "cell_type": "markdown",
   "id": "48ca4c30-aa69-417f-8c32-caf38c98ee8f",
   "metadata": {},
   "source": [
    "A[0]은 항상 가장 큰 값이 맞지만, A[n-1]은 힙 구조상 항상 가장 작은 값은 아닙니다.\n",
    "최대 힙에서는 전체적으로 정렬된 구조가 아니고, 부모-자식 간의 크기 관계만 유지되므로\n",
    "A[n-1]은 잎 노드 중 하나일 뿐이며, 가장 작은 값이 아닐 수도 있습니다."
   ]
  },
  {
   "cell_type": "markdown",
   "id": "a72b1f7d-c02d-437f-ab40-8756201ac915",
   "metadata": {},
   "source": [
    "### 3."
   ]
  },
  {
   "cell_type": "markdown",
   "id": "c4f9f380-1cfd-4570-a0c5-b4d37c09a284",
   "metadata": {},
   "source": [
    "buildHeap()은 **리스트 A[0..n-1]**을 힙으로 만드는 과정에서\n",
    "리프 노드(잎 노드)는 스며내리기(sift-down)를 할 필요가 없기 때문에 그냥 넘어감.\n",
    "리프 노드의 수는 정확히 ⌊n/2⌋개, 따라서 sift-down을 하지 않는 노드의 개수는 약 n/2개입니다."
   ]
  },
  {
   "cell_type": "markdown",
   "id": "bc500473-ec10-4829-b7ec-2aacded49b72",
   "metadata": {},
   "source": [
    "### 4."
   ]
  },
  {
   "cell_type": "markdown",
   "id": "7367067c-fff8-4327-be96-f63a9b267eb5",
   "metadata": {},
   "source": [
    "O(log n)"
   ]
  },
  {
   "cell_type": "markdown",
   "id": "70d2762e-02f3-495b-ae20-73c3e7e1ccd3",
   "metadata": {},
   "source": [
    "### 5."
   ]
  },
  {
   "cell_type": "markdown",
   "id": "57341cb9-7313-488a-a8e8-2e3df68f9503",
   "metadata": {},
   "source": [
    "아니오, **힙은 루트 노드(최대 힙이면 최대값)**만 효율적으로 삭제할 수 있습니다.\n",
    "만약 마지막 원소나 특정 노드를 삭제하려면:\n",
    "\n",
    "해당 노드를 찾아야 함 → O(n)\n",
    "\n",
    "삭제 후 힙 재정렬 필요 → O(log n)\n",
    "\n",
    "결국 루트 외의 삭제는 비효율적이며, 힙의 설계 목적에 맞지 않습니다."
   ]
  },
  {
   "cell_type": "markdown",
   "id": "e8222f28-8328-47cd-b178-a39faee909f6",
   "metadata": {},
   "source": [
    "### 6."
   ]
  },
  {
   "cell_type": "markdown",
   "id": "acc8ea97-f91a-49ad-8a14-53135965f34d",
   "metadata": {},
   "source": [
    "buildHeap()은 일반적으로 아래에서 위로 스며내기 하며 O(n) 시간에 동작합니다.\n",
    "하지만 반대로 위에서 아래로 스며내기 한다면, 매번 비교가 많아져서 O(n log n) 시간이 걸릴 수 있습니다.\n",
    "따라서 반대로 하면 덜 효율적이며, 시간 복잡도 면에서 좋지 않습니다."
   ]
  },
  {
   "cell_type": "markdown",
   "id": "fd161e05-c638-40a5-a461-12c0c1501066",
   "metadata": {},
   "source": [
    "### 7."
   ]
  },
  {
   "cell_type": "markdown",
   "id": "f7a79f50-5c13-4c02-987b-41cf9fccadb4",
   "metadata": {},
   "source": [
    "힙에 새 값을 추가하는 과정:\n",
    "\n",
    "1.힙의 마지막에 원소 추가\n",
    "\n",
    "2.부모 노드와 비교하며 위로 올라감 (sift-up)"
   ]
  },
  {
   "cell_type": "markdown",
   "id": "596489e0-cbf5-4908-8369-2679793e283d",
   "metadata": {},
   "source": [
    "# 6.LeetCode 703.Kth Largest Element in Stream"
   ]
  },
  {
   "cell_type": "code",
   "execution_count": 6,
   "id": "d5d96783-53f3-4180-be13-87cce914ac74",
   "metadata": {},
   "outputs": [
    {
     "name": "stdout",
     "output_type": "stream",
     "text": [
      "초기 힙 상태 (k=3): [4, 5, 8]\n",
      "결과:\n",
      "3 추가 후 힙: [3, 4, 8, 5]\n",
      "힙 크기 초과로 3 제거 → 현재 힙: [4, 5, 8]\n",
      "현재 3번째 큰 값: 4\n",
      "\n",
      "4\n",
      "5 추가 후 힙: [4, 5, 8, 5]\n",
      "힙 크기 초과로 4 제거 → 현재 힙: [5, 5, 8]\n",
      "현재 3번째 큰 값: 5\n",
      "\n",
      "5\n",
      "10 추가 후 힙: [5, 5, 8, 10]\n",
      "힙 크기 초과로 5 제거 → 현재 힙: [5, 10, 8]\n",
      "현재 3번째 큰 값: 5\n",
      "\n",
      "5\n",
      "9 추가 후 힙: [5, 9, 8, 10]\n",
      "힙 크기 초과로 5 제거 → 현재 힙: [8, 9, 10]\n",
      "현재 3번째 큰 값: 8\n",
      "\n",
      "8\n",
      "4 추가 후 힙: [4, 8, 10, 9]\n",
      "힙 크기 초과로 4 제거 → 현재 힙: [8, 9, 10]\n",
      "현재 3번째 큰 값: 8\n",
      "\n",
      "8\n"
     ]
    }
   ],
   "source": [
    "import heapq\n",
    "\n",
    "class KthLargest:\n",
    "    def __init__(self, k, nums):\n",
    "        self.k = k\n",
    "        self.heap = nums\n",
    "        heapq.heapify(self.heap)\n",
    "        \n",
    "        while len(self.heap) > k:\n",
    "            heapq.heappop(self.heap)\n",
    "        print(f\"초기 힙 상태 (k={k}): {self.heap}\")\n",
    "\n",
    "    def add(self, val):\n",
    "        heapq.heappush(self.heap, val)\n",
    "        print(f\"{val} 추가 후 힙: {self.heap}\")\n",
    "        \n",
    "        if len(self.heap) > self.k:\n",
    "            removed = heapq.heappop(self.heap)\n",
    "            print(f\"힙 크기 초과로 {removed} 제거 → 현재 힙: {self.heap}\")\n",
    "        \n",
    "        print(f\"현재 {self.k}번째 큰 값: {self.heap[0]}\\n\")\n",
    "        return self.heap[0]\n",
    "\n",
    "# 테스트 실행\n",
    "k = 3\n",
    "nums = [4, 5, 8, 2]\n",
    "kthLargest = KthLargest(k, nums)\n",
    "\n",
    "print(\"결과:\")\n",
    "print(kthLargest.add(3))   # 출력: 4\n",
    "print(kthLargest.add(5))   # 출력: 5\n",
    "print(kthLargest.add(10))  # 출력: 5\n",
    "print(kthLargest.add(9))   # 출력: 8\n",
    "print(kthLargest.add(4))   # 출력: 8"
   ]
  }
 ],
 "metadata": {
  "kernelspec": {
   "display_name": "Python 3 (ipykernel)",
   "language": "python",
   "name": "python3"
  },
  "language_info": {
   "codemirror_mode": {
    "name": "ipython",
    "version": 3
   },
   "file_extension": ".py",
   "mimetype": "text/x-python",
   "name": "python",
   "nbconvert_exporter": "python",
   "pygments_lexer": "ipython3",
   "version": "3.13.2"
  }
 },
 "nbformat": 4,
 "nbformat_minor": 5
}
